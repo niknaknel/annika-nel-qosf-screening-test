{
 "cells": [
  {
   "cell_type": "code",
   "execution_count": 1,
   "id": "2d4f81d0-a608-4aa3-942f-bf47fca3f69e",
   "metadata": {},
   "outputs": [],
   "source": [
    "from qiskit import *\n",
    "from qiskit.circuit.library import OR\n",
    "\n",
    "def find_negative_numbers(numbers):\n",
    "    n = len(numbers) + 1\n",
    "    \n",
    "    # encode\n",
    "    qr = QuantumRegister(n)\n",
    "    cr = ClassicalRegister(1)\n",
    "    \n",
    "    circuit = QuantumCircuit(qr, cr)\n",
    "\n",
    "    # map all positive states to 1\n",
    "    for i, number in enumerate(numbers):\n",
    "        if number >= 0:\n",
    "            circuit.x(qr[i])\n",
    "    circuit.barrier()\n",
    "    \n",
    "    # add controlled Toffoli gate to first n-1 qubits and a not gate on last qubit\n",
    "    circuit.mct(qr[0:n-1], qr[n-1])\n",
    "    circuit.x(qr[n-1])\n",
    "    \n",
    "    # measure\n",
    "    circuit.measure(qr[n-1], cr[0])\n",
    "    \n",
    "    # draw\n",
    "    print(circuit.draw())\n",
    "\n",
    "    # result\n",
    "    simulator = Aer.get_backend('qasm_simulator')\n",
    "    result = execute(circuit, backend = simulator).result()\n",
    "    counts = result.get_counts(circuit)\n",
    "\n",
    "    has_negative = bool(int(max(counts, key= lambda x: counts[x])))\n",
    "    return has_negative"
   ]
  },
  {
   "cell_type": "code",
   "execution_count": 2,
   "id": "d4603064-cf7e-4e61-afc0-151f06e85a46",
   "metadata": {},
   "outputs": [
    {
     "name": "stdout",
     "output_type": "stream",
     "text": [
      "      ┌───┐ ░              \n",
      "q0_0: ┤ X ├─░───■──────────\n",
      "      ├───┤ ░   │          \n",
      "q0_1: ┤ X ├─░───■──────────\n",
      "      └───┘ ░   │          \n",
      "q0_2: ──────░───■──────────\n",
      "      ┌───┐ ░   │          \n",
      "q0_3: ┤ X ├─░───■──────────\n",
      "      ├───┤ ░   │          \n",
      "q0_4: ┤ X ├─░───■──────────\n",
      "      └───┘ ░   │          \n",
      "q0_5: ──────░───■──────────\n",
      "      ┌───┐ ░   │          \n",
      "q0_6: ┤ X ├─░───■──────────\n",
      "      ├───┤ ░   │          \n",
      "q0_7: ┤ X ├─░───■──────────\n",
      "      └───┘ ░ ┌─┴─┐┌───┐┌─┐\n",
      "q0_8: ──────░─┤ X ├┤ X ├┤M├\n",
      "            ░ └───┘└───┘└╥┘\n",
      "c0: 1/═══════════════════╩═\n",
      "                         0 \n"
     ]
    },
    {
     "data": {
      "text/plain": [
       "True"
      ]
     },
     "execution_count": 2,
     "metadata": {},
     "output_type": "execute_result"
    }
   ],
   "source": [
    "input = [1, 3, -6, 5, 1, -2, 0, 4]\n",
    "\n",
    "find_negative_numbers(input)"
   ]
  },
  {
   "cell_type": "code",
   "execution_count": 3,
   "id": "7f5b781c-a0c8-4cf7-bba6-0b6266fe8fc0",
   "metadata": {},
   "outputs": [
    {
     "name": "stdout",
     "output_type": "stream",
     "text": [
      "      ┌───┐ ░              \n",
      "q5_0: ┤ X ├─░───■──────────\n",
      "      ├───┤ ░   │          \n",
      "q5_1: ┤ X ├─░───■──────────\n",
      "      ├───┤ ░   │          \n",
      "q5_2: ┤ X ├─░───■──────────\n",
      "      ├───┤ ░   │          \n",
      "q5_3: ┤ X ├─░───■──────────\n",
      "      └───┘ ░ ┌─┴─┐┌───┐┌─┐\n",
      "q5_4: ──────░─┤ X ├┤ X ├┤M├\n",
      "            ░ └───┘└───┘└╥┘\n",
      "c1: 1/═══════════════════╩═\n",
      "                         0 \n"
     ]
    },
    {
     "data": {
      "text/plain": [
       "False"
      ]
     },
     "execution_count": 3,
     "metadata": {},
     "output_type": "execute_result"
    }
   ],
   "source": [
    "input = [1, 3, 2, 5]\n",
    "\n",
    "find_negative_numbers(input)"
   ]
  },
  {
   "cell_type": "code",
   "execution_count": null,
   "id": "8152c31d-ec5b-426e-bc18-7050ee618c7a",
   "metadata": {},
   "outputs": [],
   "source": []
  }
 ],
 "metadata": {
  "kernelspec": {
   "display_name": "qosf-env",
   "language": "python",
   "name": "qosf-env"
  },
  "language_info": {
   "codemirror_mode": {
    "name": "ipython",
    "version": 3
   },
   "file_extension": ".py",
   "mimetype": "text/x-python",
   "name": "python",
   "nbconvert_exporter": "python",
   "pygments_lexer": "ipython3",
   "version": "3.9.6"
  }
 },
 "nbformat": 4,
 "nbformat_minor": 5
}
